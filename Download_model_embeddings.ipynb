{
 "cells": [
  {
   "cell_type": "code",
   "execution_count": 4,
   "id": "bd31c082-a9ad-4941-b8b6-09640ba9f386",
   "metadata": {},
   "outputs": [],
   "source": [
    "# install in terminal\n",
    "# !pip install huggingface-hub"
   ]
  },
  {
   "cell_type": "markdown",
   "id": "3fe11cc6-5feb-42e3-9d91-66d9f208efa7",
   "metadata": {},
   "source": [
    "# Download local model embeddings"
   ]
  },
  {
   "cell_type": "code",
   "execution_count": 3,
   "id": "b775ae0f-0baf-4a9c-a55c-edd1c284f3e6",
   "metadata": {},
   "outputs": [
    {
     "name": "stderr",
     "output_type": "stream",
     "text": [
      "Fetching 12 files: 100%|██████████| 12/12 [05:02<00:00, 25.23s/it]\n"
     ]
    },
    {
     "data": {
      "text/plain": [
       "'/Users/denis.murataev/Documents/Jyputer_notebooks/Cementum/RAG_MVP/models/sbert_large_nlu_ru'"
      ]
     },
     "execution_count": 3,
     "metadata": {},
     "output_type": "execute_result"
    }
   ],
   "source": [
    "from huggingface_hub import snapshot_download\n",
    "\n",
    "# Скачаем репозиторий модели в локальную папку ./models/sbert_large_nlu_ru\n",
    "snapshot_download(\n",
    "    repo_id=\"ai-forever/sbert_large_nlu_ru\",\n",
    "    repo_type=\"model\",\n",
    "    local_dir=\"models/sbert_large_nlu_ru\",\n",
    "    local_dir_use_symlinks=False  # чтобы не использовать ссылки\n",
    ")"
   ]
  },
  {
   "cell_type": "markdown",
   "id": "724f1afe-1317-4fd2-b605-99ba57a6e622",
   "metadata": {},
   "source": [
    "# Load local model (test)"
   ]
  },
  {
   "cell_type": "code",
   "execution_count": 1,
   "id": "5369e900-3365-43b9-b08c-b587ce221e74",
   "metadata": {},
   "outputs": [
    {
     "name": "stderr",
     "output_type": "stream",
     "text": [
      "/Users/denis.murataev/opt/anaconda3/envs/geo-gis-wb-312/lib/python3.12/site-packages/tqdm/auto.py:21: TqdmWarning: IProgress not found. Please update jupyter and ipywidgets. See https://ipywidgets.readthedocs.io/en/stable/user_install.html\n",
      "  from .autonotebook import tqdm as notebook_tqdm\n"
     ]
    }
   ],
   "source": [
    "from sentence_transformers import SentenceTransformer\n",
    "\n",
    "model = SentenceTransformer(\n",
    "    \"./models/sbert_large_nlu_ru\",\n",
    "    local_files_only=True   # запрещает любые запросы к HF Hub\n",
    ")\n",
    "# Для ускорения на CPU ограничим макс. длину:\n",
    "model.max_seq_length = 256"
   ]
  },
  {
   "cell_type": "code",
   "execution_count": 2,
   "id": "4dd265be-397d-4ad5-827c-21a6a6372c76",
   "metadata": {},
   "outputs": [
    {
     "data": {
      "text/plain": [
       "SentenceTransformer(\n",
       "  (0): Transformer({'max_seq_length': 256, 'do_lower_case': False}) with Transformer model: BertModel \n",
       "  (1): Pooling({'word_embedding_dimension': 1024, 'pooling_mode_cls_token': False, 'pooling_mode_mean_tokens': True, 'pooling_mode_max_tokens': False, 'pooling_mode_mean_sqrt_len_tokens': False, 'pooling_mode_weightedmean_tokens': False, 'pooling_mode_lasttoken': False, 'include_prompt': True})\n",
       "  (2): Normalize()\n",
       ")"
      ]
     },
     "execution_count": 2,
     "metadata": {},
     "output_type": "execute_result"
    }
   ],
   "source": [
    "model"
   ]
  },
  {
   "cell_type": "code",
   "execution_count": null,
   "id": "3e22b615",
   "metadata": {},
   "outputs": [],
   "source": []
  }
 ],
 "metadata": {
  "kernelspec": {
   "display_name": "Python 3 (ipykernel)",
   "language": "python",
   "name": "python3"
  },
  "language_info": {
   "codemirror_mode": {
    "name": "ipython",
    "version": 3
   },
   "file_extension": ".py",
   "mimetype": "text/x-python",
   "name": "python",
   "nbconvert_exporter": "python",
   "pygments_lexer": "ipython3",
   "version": "3.10.18"
  }
 },
 "nbformat": 4,
 "nbformat_minor": 5
}
